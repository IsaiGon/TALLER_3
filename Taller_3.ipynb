{
  "nbformat": 4,
  "nbformat_minor": 0,
  "metadata": {
    "colab": {
      "provenance": [],
      "authorship_tag": "ABX9TyPjzy6/oRzRH0WA+ZcSQHiA",
      "include_colab_link": true
    },
    "kernelspec": {
      "name": "python3",
      "display_name": "Python 3"
    },
    "language_info": {
      "name": "python"
    }
  },
  "cells": [
    {
      "cell_type": "markdown",
      "metadata": {
        "id": "view-in-github",
        "colab_type": "text"
      },
      "source": [
        "<a href=\"https://colab.research.google.com/github/IsaiGon/TALLER_3/blob/main/Taller_3.ipynb\" target=\"_parent\"><img src=\"https://colab.research.google.com/assets/colab-badge.svg\" alt=\"Open In Colab\"/></a>"
      ]
    },
    {
      "cell_type": "code",
      "execution_count": null,
      "metadata": {
        "colab": {
          "base_uri": "https://localhost:8080/"
        },
        "id": "hneFmlQV-sEl",
        "outputId": "f9b31de9-a806-40ed-8e3e-54a075538c48"
      },
      "outputs": [
        {
          "output_type": "stream",
          "name": "stdout",
          "text": [
            "Ingrese su estrato socioeconómico: 7\n",
            "Ingrese su lugar de residencia(Monteria/fuera de Monteria): fuera\n",
            "Ingrese su edad: 1\n",
            "Ingrese su promedio académico del semestre: 3.4\n",
            "El gasto total mensual es de: 5740000\n"
          ]
        }
      ],
      "source": [
        "# Pedir al usuario la información necesaria\n",
        "estrato = int(input(\"Ingrese su estrato socioeconómico: \"))\n",
        "lugar_residencia = input(\"Ingrese su lugar de residencia(Monteria/fuera de Monteria): \")\n",
        "edad = int(input(\"Ingrese su edad: \"))\n",
        "promedio = float(input(\"Ingrese su promedio académico del semestre: \"))\n",
        "\n",
        "# Calcular costo de transporte diario\n",
        "if lugar_residencia == \"Monteria\":\n",
        "    costo_transporte = 2800\n",
        "else:\n",
        "    costo_transporte = 3500\n",
        "costo_transporte = 2 * 20 * costo_transporte\n",
        "\n",
        "# Calcular costo de alimentación mensual\n",
        "costo_alimentacion = 20000 * 30\n",
        "\n",
        "# Calcular apoyo económico de transporte y alimentación ofrecido por Chocolove McDonell\n",
        "if estrato == 1:\n",
        "    if edad < 18:\n",
        "        apoyo_transporte = 65000\n",
        "        apoyo_alimentacion = 0.9 * costo_alimentacion\n",
        "    else:\n",
        "        apoyo_transporte = 50000\n",
        "        apoyo_alimentacion = 0.7 * costo_alimentacion\n",
        "elif estrato == 2:\n",
        "    if edad < 18:\n",
        "        apoyo_transporte = 45000\n",
        "        apoyo_alimentacion = 0.7 * costo_alimentacion\n",
        "    else:\n",
        "        apoyo_transporte = 30000\n",
        "        apoyo_alimentacion = 0.5 * costo_alimentacion\n",
        "else:\n",
        "    apoyo_transporte = 0\n",
        "    apoyo_alimentacion = 0\n",
        "\n",
        "# Calcular costo total de matrícula\n",
        "costo_matricula = 5000000\n",
        "if promedio > 4.8:\n",
        "    apoyo_matricula = costo_matricula\n",
        "elif promedio > 4.5:\n",
        "    apoyo_matricula = 0.7 * costo_matricula\n",
        "elif promedio > 4.0:\n",
        "    apoyo_matricula = 0.4 * costo_matricula\n",
        "else:\n",
        "    apoyo_matricula = 0\n",
        "\n",
        "# Calcular gasto total mensual\n",
        "gasto_total = costo_transporte + costo_alimentacion + costo_matricula - apoyo_transporte - apoyo_alimentacion + apoyo_matricula\n",
        "print('El gasto total mensual es de: ' + str(gasto_total))\n"
      ]
    }
  ]
}